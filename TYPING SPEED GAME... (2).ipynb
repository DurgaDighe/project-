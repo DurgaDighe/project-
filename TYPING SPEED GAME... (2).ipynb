{
 "cells": [
  {
   "cell_type": "code",
   "execution_count": null,
   "id": "dcc54a4e-01bd-4e9f-9dc9-da0a998cb656",
   "metadata": {},
   "outputs": [
    {
     "name": "stdout",
     "output_type": "stream",
     "text": [
      "🎯 Welcome to the Typing Speed Test Game!\n",
      "\n",
      "Select a difficulty level:\n",
      "1. Easy\n",
      "2. Medium (Unlocked after 50 WPM in Easy)\n",
      "3. Hard (Unlocked after 70 WPM in Medium)\n"
     ]
    },
    {
     "name": "stdin",
     "output_type": "stream",
     "text": [
      "\n",
      "Enter 1, 2, or 3:  1\n"
     ]
    },
    {
     "name": "stdout",
     "output_type": "stream",
     "text": [
      "\n",
      "Start typing:\n",
      "\n",
      "\"Cats love to chase mice.\"\n",
      "\n"
     ]
    },
    {
     "name": "stdin",
     "output_type": "stream",
     "text": [
      "Your input:  cate love to chase mice\n"
     ]
    },
    {
     "name": "stdout",
     "output_type": "stream",
     "text": [
      "\n",
      "🎯 Results:\n",
      "🕒 Time taken: 14.35 seconds\n",
      "⌨️ Typing Speed: 20.91 Words Per Minute (WPM)\n",
      "✅ Accuracy: 87.50%\n",
      "Don't worry, practice makes perfect! 💪\n",
      "\n",
      "🏆 Top 5 Scores:  [20.912053786783442]\n"
     ]
    },
    {
     "name": "stdin",
     "output_type": "stream",
     "text": [
      "\n",
      "Do you want to play again? (yes/no):  yes\n"
     ]
    },
    {
     "name": "stdout",
     "output_type": "stream",
     "text": [
      "🎯 Welcome to the Typing Speed Test Game!\n",
      "\n",
      "Select a difficulty level:\n",
      "1. Easy\n",
      "2. Medium (Unlocked after 50 WPM in Easy)\n",
      "3. Hard (Unlocked after 70 WPM in Medium)\n"
     ]
    },
    {
     "name": "stdin",
     "output_type": "stream",
     "text": [
      "\n",
      "Enter 1, 2, or 3:  2\n"
     ]
    },
    {
     "name": "stdout",
     "output_type": "stream",
     "text": [
      "Invalid choice! Please unlock higher levels first.\n"
     ]
    },
    {
     "name": "stdin",
     "output_type": "stream",
     "text": [
      "\n",
      "Do you want to play again? (yes/no):  yes\n"
     ]
    },
    {
     "name": "stdout",
     "output_type": "stream",
     "text": [
      "🎯 Welcome to the Typing Speed Test Game!\n",
      "\n",
      "Select a difficulty level:\n",
      "1. Easy\n",
      "2. Medium (Unlocked after 50 WPM in Easy)\n",
      "3. Hard (Unlocked after 70 WPM in Medium)\n"
     ]
    },
    {
     "name": "stdin",
     "output_type": "stream",
     "text": [
      "\n",
      "Enter 1, 2, or 3:  1\n"
     ]
    },
    {
     "name": "stdout",
     "output_type": "stream",
     "text": [
      "\n",
      "Start typing:\n",
      "\n",
      "\"The sun rises in the east.\"\n",
      "\n"
     ]
    },
    {
     "name": "stdin",
     "output_type": "stream",
     "text": [
      "Your input:  the sun rise in east\n"
     ]
    },
    {
     "name": "stdout",
     "output_type": "stream",
     "text": [
      "\n",
      "🎯 Results:\n",
      "🕒 Time taken: 10.67 seconds\n",
      "⌨️ Typing Speed: 33.75 Words Per Minute (WPM)\n",
      "✅ Accuracy: 42.31%\n",
      "You can do better! Try again!\n",
      "\n",
      "🏆 Top 5 Scores:  [33.74680000898454, 20.912053786783442]\n"
     ]
    },
    {
     "name": "stdin",
     "output_type": "stream",
     "text": [
      "\n",
      "Do you want to play again? (yes/no):  yes\n"
     ]
    },
    {
     "name": "stdout",
     "output_type": "stream",
     "text": [
      "🎯 Welcome to the Typing Speed Test Game!\n",
      "\n",
      "Select a difficulty level:\n",
      "1. Easy\n",
      "2. Medium (Unlocked after 50 WPM in Easy)\n",
      "3. Hard (Unlocked after 70 WPM in Medium)\n"
     ]
    },
    {
     "name": "stdin",
     "output_type": "stream",
     "text": [
      "\n",
      "Enter 1, 2, or 3:  1\n"
     ]
    },
    {
     "name": "stdout",
     "output_type": "stream",
     "text": [
      "\n",
      "Start typing:\n",
      "\n",
      "\"Cats love to chase mice.\"\n",
      "\n"
     ]
    },
    {
     "name": "stdin",
     "output_type": "stream",
     "text": [
      "Your input:  cate love to chase mice\n"
     ]
    },
    {
     "name": "stdout",
     "output_type": "stream",
     "text": [
      "\n",
      "🎯 Results:\n",
      "🕒 Time taken: 12.07 seconds\n",
      "⌨️ Typing Speed: 24.86 Words Per Minute (WPM)\n",
      "✅ Accuracy: 87.50%\n",
      "Don't worry, practice makes perfect! 💪\n",
      "\n",
      "🏆 Top 5 Scores:  [33.74680000898454, 24.856047062428484, 20.912053786783442]\n"
     ]
    },
    {
     "name": "stdin",
     "output_type": "stream",
     "text": [
      "\n",
      "Do you want to play again? (yes/no):  yes\n"
     ]
    },
    {
     "name": "stdout",
     "output_type": "stream",
     "text": [
      "🎯 Welcome to the Typing Speed Test Game!\n",
      "\n",
      "Select a difficulty level:\n",
      "1. Easy\n",
      "2. Medium (Unlocked after 50 WPM in Easy)\n",
      "3. Hard (Unlocked after 70 WPM in Medium)\n"
     ]
    },
    {
     "name": "stdin",
     "output_type": "stream",
     "text": [
      "\n",
      "Enter 1, 2, or 3:  1\n"
     ]
    },
    {
     "name": "stdout",
     "output_type": "stream",
     "text": [
      "\n",
      "Start typing:\n",
      "\n",
      "\"Reading books improves knowledge.\"\n",
      "\n"
     ]
    },
    {
     "name": "stdin",
     "output_type": "stream",
     "text": [
      "Your input:  reading books improves knowledge\n"
     ]
    },
    {
     "name": "stdout",
     "output_type": "stream",
     "text": [
      "\n",
      "🎯 Results:\n",
      "🕒 Time taken: 18.41 seconds\n",
      "⌨️ Typing Speed: 13.03 Words Per Minute (WPM)\n",
      "✅ Accuracy: 93.94%\n",
      "Don't worry, practice makes perfect! 💪\n",
      "\n",
      "🏆 Top 5 Scores:  [33.74680000898454, 24.856047062428484, 20.912053786783442, 13.032895356850963]\n"
     ]
    },
    {
     "name": "stdin",
     "output_type": "stream",
     "text": [
      "\n",
      "Do you want to play again? (yes/no):  yes\n"
     ]
    },
    {
     "name": "stdout",
     "output_type": "stream",
     "text": [
      "🎯 Welcome to the Typing Speed Test Game!\n",
      "\n",
      "Select a difficulty level:\n",
      "1. Easy\n",
      "2. Medium (Unlocked after 50 WPM in Easy)\n",
      "3. Hard (Unlocked after 70 WPM in Medium)\n"
     ]
    },
    {
     "name": "stdin",
     "output_type": "stream",
     "text": [
      "\n",
      "Enter 1, 2, or 3:  1\n"
     ]
    },
    {
     "name": "stdout",
     "output_type": "stream",
     "text": [
      "\n",
      "Start typing:\n",
      "\n",
      "\"The sun rises in the east.\"\n",
      "\n"
     ]
    },
    {
     "name": "stdin",
     "output_type": "stream",
     "text": [
      "Your input:  the sun rises in east\n"
     ]
    },
    {
     "name": "stdout",
     "output_type": "stream",
     "text": [
      "\n",
      "🎯 Results:\n",
      "🕒 Time taken: 12.11 seconds\n",
      "⌨️ Typing Speed: 29.74 Words Per Minute (WPM)\n",
      "✅ Accuracy: 61.54%\n",
      "Don't worry, practice makes perfect! 💪\n",
      "\n",
      "🏆 Top 5 Scores:  [33.74680000898454, 29.73725838899409, 24.856047062428484, 20.912053786783442, 13.032895356850963]\n"
     ]
    },
    {
     "name": "stdin",
     "output_type": "stream",
     "text": [
      "\n",
      "Do you want to play again? (yes/no):  yes\n"
     ]
    },
    {
     "name": "stdout",
     "output_type": "stream",
     "text": [
      "🎯 Welcome to the Typing Speed Test Game!\n",
      "\n",
      "Select a difficulty level:\n",
      "1. Easy\n",
      "2. Medium (Unlocked after 50 WPM in Easy)\n",
      "3. Hard (Unlocked after 70 WPM in Medium)\n"
     ]
    },
    {
     "name": "stdin",
     "output_type": "stream",
     "text": [
      "\n",
      "Enter 1, 2, or 3:  1\n"
     ]
    },
    {
     "name": "stdout",
     "output_type": "stream",
     "text": [
      "\n",
      "Start typing:\n",
      "\n",
      "\"The sun rises in the east.\"\n",
      "\n"
     ]
    },
    {
     "name": "stdin",
     "output_type": "stream",
     "text": [
      "Your input:  the sun rises in east\n"
     ]
    },
    {
     "name": "stdout",
     "output_type": "stream",
     "text": [
      "\n",
      "🎯 Results:\n",
      "🕒 Time taken: 14.34 seconds\n",
      "⌨️ Typing Speed: 25.11 Words Per Minute (WPM)\n",
      "✅ Accuracy: 61.54%\n",
      "Don't worry, practice makes perfect! 💪\n",
      "\n",
      "🏆 Top 5 Scores:  [33.74680000898454, 29.73725838899409, 25.105470031619486, 24.856047062428484, 20.912053786783442]\n"
     ]
    },
    {
     "name": "stdin",
     "output_type": "stream",
     "text": [
      "\n",
      "Do you want to play again? (yes/no):  yes\n"
     ]
    },
    {
     "name": "stdout",
     "output_type": "stream",
     "text": [
      "🎯 Welcome to the Typing Speed Test Game!\n",
      "\n",
      "Select a difficulty level:\n",
      "1. Easy\n",
      "2. Medium (Unlocked after 50 WPM in Easy)\n",
      "3. Hard (Unlocked after 70 WPM in Medium)\n"
     ]
    },
    {
     "name": "stdin",
     "output_type": "stream",
     "text": [
      "\n",
      "Enter 1, 2, or 3:  1\n"
     ]
    },
    {
     "name": "stdout",
     "output_type": "stream",
     "text": [
      "\n",
      "Start typing:\n",
      "\n",
      "\"Water is essential for life.\"\n",
      "\n"
     ]
    },
    {
     "name": "stdin",
     "output_type": "stream",
     "text": [
      "Your input:  wyuheuhy7t386tjgjjarrhghge\n"
     ]
    },
    {
     "name": "stdout",
     "output_type": "stream",
     "text": [
      "\n",
      "🎯 Results:\n",
      "🕒 Time taken: 4.86 seconds\n",
      "⌨️ Typing Speed: 61.76 Words Per Minute (WPM)\n",
      "✅ Accuracy: 0.00%\n",
      "Good job! Keep going!\n",
      "\n",
      "🏆 Top 5 Scores:  [61.76224936121788, 33.74680000898454, 29.73725838899409, 25.105470031619486, 24.856047062428484]\n"
     ]
    },
    {
     "name": "stdin",
     "output_type": "stream",
     "text": [
      "\n",
      "Do you want to play again? (yes/no):  yes\n"
     ]
    },
    {
     "name": "stdout",
     "output_type": "stream",
     "text": [
      "🎯 Welcome to the Typing Speed Test Game!\n",
      "\n",
      "🌟 Congratulations! You unlocked the Medium level!\n",
      "Select a difficulty level:\n",
      "1. Easy\n",
      "2. Medium (Unlocked after 50 WPM in Easy)\n",
      "3. Hard (Unlocked after 70 WPM in Medium)\n"
     ]
    },
    {
     "name": "stdin",
     "output_type": "stream",
     "text": [
      "\n",
      "Enter 1, 2, or 3:  2\n"
     ]
    },
    {
     "name": "stdout",
     "output_type": "stream",
     "text": [
      "\n",
      "Start typing:\n",
      "\n",
      "\"Determination and hard work lead to success.\"\n",
      "\n"
     ]
    }
   ],
   "source": [
    "import time\n",
    "import random\n",
    "import matplotlib.pyplot as plt\n",
    "import numpy as np\n",
    "\n",
    "# Sentences for Different Levels\n",
    "easy_sentences = [\n",
    "    \"The sun rises in the east.\",\n",
    "    \"Cats love to chase mice.\",\n",
    "    \"Water is essential for life.\",\n",
    "    \"Reading books improves knowledge.\"\n",
    "]\n",
    "\n",
    "medium_sentences = [\n",
    "    \"The scientist developed a new chemical formula.\",\n",
    "    \"Machines have revolutionized the manufacturing industry.\",\n",
    "    \"Determination and hard work lead to success.\",\n",
    "    \"Global warming is a threat to all living beings.\"\n",
    "]\n",
    "\n",
    "hard_sentences = [\n",
    "    \"Artificial intelligence algorithms require enormous amounts of data to train efficiently.\",\n",
    "    \"Cryptographic techniques ensure the confidentiality and integrity of sensitive information.\",\n",
    "    \"Understanding quantum mechanics demands a solid foundation in advanced mathematics and physics.\",\n",
    "    \"Neural networks have dramatically improved the field of computer vision and natural language processing.\"\n",
    "]\n",
    "\n",
    "# Game Function\n",
    "def typing_speed_test():\n",
    "    global leaderboard, unlocked_levels, total_sessions, wpm_over_time\n",
    "    print(\"🎯 Welcome to the Typing Speed Test Game!\\n\")\n",
    "    \n",
    "    # Check if new level is unlocked\n",
    "    if unlocked_levels == 1:\n",
    "        print(\"🌟 Congratulations! You unlocked the Medium level!\")\n",
    "    \n",
    "    if unlocked_levels == 2:\n",
    "        print(\"🌟 Congratulations! You unlocked the Hard level!\")\n",
    "    \n",
    "    print(\"Select a difficulty level:\")\n",
    "    print(\"1. Easy\")\n",
    "    print(\"2. Medium (Unlocked after 50 WPM in Easy)\")\n",
    "    print(\"3. Hard (Unlocked after 70 WPM in Medium)\")\n",
    "    \n",
    "    level = input(\"\\nEnter 1, 2, or 3: \")\n",
    "    \n",
    "    if level == '1':\n",
    "        test_sentence = random.choice(easy_sentences)\n",
    "        theme = 'lightgreen'\n",
    "    elif level == '2' and unlocked_levels >= 1:\n",
    "        test_sentence = random.choice(medium_sentences)\n",
    "        theme = 'yellow'\n",
    "    elif level == '3' and unlocked_levels >= 2:\n",
    "        test_sentence = random.choice(hard_sentences)\n",
    "        theme = 'red'\n",
    "    else:\n",
    "        print(\"Invalid choice! Please unlock higher levels first.\")\n",
    "        return\n",
    "\n",
    "    print(f\"\\nStart typing:\\n\\n\\\"{test_sentence}\\\"\\n\")\n",
    "    \n",
    "    # Start timer\n",
    "    start_time = time.time()\n",
    "    user_input = input(\"Your input: \")\n",
    "    end_time = time.time()\n",
    "    \n",
    "    # Calculate time taken\n",
    "    time_taken = end_time - start_time\n",
    "    words = len(test_sentence.split())\n",
    "    wpm = (words / time_taken) * 60\n",
    "\n",
    "    # Accuracy\n",
    "    correct_chars = sum(1 for a, b in zip(user_input, test_sentence) if a == b)\n",
    "    accuracy = (correct_chars / len(test_sentence)) * 100\n",
    "\n",
    "    # Display Results with Feedback\n",
    "    print(\"\\n🎯 Results:\")\n",
    "    print(f\"🕒 Time taken: {time_taken:.2f} seconds\")\n",
    "    print(f\"⌨️ Typing Speed: {wpm:.2f} Words Per Minute (WPM)\")\n",
    "    print(f\"✅ Accuracy: {accuracy:.2f}%\")\n",
    "    \n",
    "    # Performance Feedback\n",
    "    if wpm > 70:\n",
    "        print(\"🎉 Excellent performance! You're a typing pro!\")\n",
    "    elif wpm > 50:\n",
    "        print(\"Good job! Keep going!\")\n",
    "    elif wpm > 30:\n",
    "        print(\"You can do better! Try again!\")\n",
    "    else:\n",
    "        print(\"Don't worry, practice makes perfect! 💪\")\n",
    "\n",
    "    # Add score to leaderboard\n",
    "    leaderboard.append(wpm)\n",
    "    leaderboard = sorted(leaderboard, reverse=True)[:5]  # Keep top 5 scores\n",
    "    print(\"\\n🏆 Top 5 Scores: \", leaderboard)\n",
    "\n",
    "    # Track WPM over time for performance graph\n",
    "    total_sessions += 1\n",
    "    wpm_over_time.append(wpm)\n",
    "\n",
    "    # Unlocking new levels based on WPM\n",
    "    if wpm > 50 and unlocked_levels == 0:\n",
    "        unlocked_levels = 1  # Unlock Medium\n",
    "    elif wpm > 70 and unlocked_levels == 1:\n",
    "        unlocked_levels = 2  # Unlock Hard\n",
    "\n",
    "# Play Again Loop\n",
    "leaderboard = []\n",
    "unlocked_levels = 0  # 0 = Easy, 1 = Medium unlocked, 2 = Hard unlocked\n",
    "total_sessions = 0\n",
    "wpm_over_time = []\n",
    "\n",
    "while True:\n",
    "    typing_speed_test()\n",
    "    again = input(\"\\nDo you want to play again? (yes/no): \").lower()\n",
    "    if again != 'yes':\n",
    "        print(\"\\nThank you for playing! 🎉\")\n",
    "        break\n",
    "\n",
    "# Show Performance Graph (WPM over time)\n",
    "def show_performance_graph():\n",
    "    if len(wpm_over_time) > 0:\n",
    "        plt.plot(np.arange(1, len(wpm_over_time)+1), wpm_over_time, marker='o', color='b')\n",
    "        plt.title(\"Typing Speed Progress (WPM over time)\")\n",
    "        plt.xlabel(\"Games Played\")\n",
    "        plt.ylabel(\"Words Per Minute (WPM)\")\n",
    "        plt.show()\n",
    "\n",
    "show_performance_graph()\n"
   ]
  },
  {
   "cell_type": "code",
   "execution_count": null,
   "id": "4390051b-a161-4e5d-8668-9d367b5db3d6",
   "metadata": {},
   "outputs": [],
   "source": []
  }
 ],
 "metadata": {
  "kernelspec": {
   "display_name": "Python 3 (ipykernel)",
   "language": "python",
   "name": "python3"
  },
  "language_info": {
   "codemirror_mode": {
    "name": "ipython",
    "version": 3
   },
   "file_extension": ".py",
   "mimetype": "text/x-python",
   "name": "python",
   "nbconvert_exporter": "python",
   "pygments_lexer": "ipython3",
   "version": "3.12.7"
  }
 },
 "nbformat": 4,
 "nbformat_minor": 5
}
